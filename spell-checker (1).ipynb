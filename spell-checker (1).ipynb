{
 "cells": [
  {
   "cell_type": "markdown",
   "metadata": {},
   "source": [
    "# Spell-Checker - CIS-24C Spell Checker"
   ]
  },
  {
   "cell_type": "markdown",
   "metadata": {},
   "source": [
    "## Project Description (100 points)\n",
    "\n",
    "This project involves creating a spell-checker problem that accepts a word from the user, look up that word in an available corpus and perform spell-correction on the word if the word is not present in the word corpus.\n",
    "\n",
    "the word corpus has been loaded and is available in a string named word corpus.\n",
    "\n",
    "You will need to do the following\n",
    "\n",
    "* Download both this program file and the associated google-10000-english.txt file to your computer.\n",
    "\n",
    "* Write a program using the WHILE loop that continuously asks the user to enter a word. If the user enters QUIT, then quit from the while loop and terminate the program. (20 points)\n",
    "\n",
    "* Once the user has entered the word, you will\n",
    "** Compare the word with the word corpus, if there is a match, then you will let the user know that the word is valid. Note that the comparison must be case insensitive. (20 points)\n",
    "\n",
    "** If there is no match, then you will need to look up the corpus for the word that best matches the word that the user entered and display that word to the user. (40 points)\n",
    "\n",
    "*Extra credit* (20 points)\n",
    "\n",
    "* Allow the user to enter a paragraph and perform an automated spell correction of the paragraph. \n",
    "For example, if the user enters \"Jack and Jill wen up the hills\", your program would return something like \"Jack and Jill went up the hill\"\n",
    "\n",
    "Other Points\n",
    "\n",
    "* 10 points will be awarded for the overall quality of the user interaction. \n",
    "* 10 points will be awarded for the proper use of Python including making sure that he code is optimal.\n"
   ]
  },
  {
   "cell_type": "markdown",
   "metadata": {},
   "source": [
    "## Imports"
   ]
  },
  {
   "cell_type": "code",
   "execution_count": null,
   "metadata": {},
   "outputs": [],
   "source": [
    "import string "
   ]
  },
  {
   "cell_type": "markdown",
   "metadata": {
    "collapsed": true
   },
   "source": [
    "## Run this cell to load the word corpus. The variable dictionary has the list of all words in your corpus\n"
   ]
  },
  {
   "cell_type": "code",
   "execution_count": 2,
   "metadata": {},
   "outputs": [
    {
     "data": {
      "text/plain": [
       "['the', 'of', 'and', 'to', 'a']"
      ]
     },
     "execution_count": 2,
     "metadata": {},
     "output_type": "execute_result"
    }
   ],
   "source": [
    "corpus_file = open('google-10000-english.txt',encoding='utf-8')\n",
    "dictionary = corpus_file.read().split('\\n')\n",
    "dictionary[:5]"
   ]
  },
  {
   "cell_type": "markdown",
   "metadata": {},
   "source": [
    "## Spellchecker"
   ]
  },
  {
   "cell_type": "code",
   "execution_count": null,
   "metadata": {},
   "outputs": [],
   "source": [
    "## TODO - WRITE YOUR PROGRAM HERE"
   ]
  },
  {
   "cell_type": "code",
   "execution_count": 8,
   "metadata": {},
   "outputs": [
    {
     "name": "stdout",
     "output_type": "stream",
     "text": [
      "Enter a string to search (type quit to quit):the\n",
      " The word you enterd is Valid\n",
      "Enter a string to search (type quit to quit):quit\n"
     ]
    }
   ],
   "source": [
    "import difflib\n",
    "\n",
    "corpus_file = open(\"google-10000-english.txt\",encoding=\"utf-8\")\n",
    "corpus_contents = corpus_file.read()\n",
    "searchString = \"\"\n",
    "\n",
    "while True:\n",
    "    searchString = input(\"Enter a string to search (type quit to quit):\")\n",
    "    if searchString == \"quit\":\n",
    "        break\n",
    "        \n",
    "    stringLength = len(searchString)\n",
    "   \n",
    "    for word in range(len(corpus_contents) - stringLength + 1): \n",
    "        if corpus_contents[word:word+stringLength] == searchString:\n",
    "            print(\" The word you enterd is Valid\")\n",
    "            break\n",
    "            \n",
    "        \n",
    "        else: \n",
    "            if corpus_contents[i:i+stringLength] != searchString:\n",
    "                best_match = difflib.get_close_matches(searchString, corpus_contents,len(corpus_contents),0)\n",
    "                print(\"The word is invalid, but the closest match word is: \", (best_match))\n",
    "            \n",
    "                break\n",
    "                \n",
    "          \n",
    "            \n",
    "        \n",
    "             \n",
    "            \n",
    "        \n",
    "        \n",
    "             "
   ]
  },
  {
   "cell_type": "code",
   "execution_count": 17,
   "metadata": {},
   "outputs": [
    {
     "name": "stdout",
     "output_type": "stream",
     "text": [
      "Enter your paragraph? hil\n",
      "Did you mean [] instead of hil\n"
     ]
    }
   ],
   "source": [
    "import difflib\n",
    "words = [\"Jack and Jill went up the hill.\"]\n",
    "\n",
    "def word_check(searchString):\n",
    "    for word in searchString.casefold().split():\n",
    "        if word not in words:\n",
    "            suggestion = difflib.get_close_matches(word, words)\n",
    "            txt = \"Did you mean {} instead of {}\"\n",
    "            print(txt.format(suggestion, word))\n",
    "        \n",
    "searchString = input(\"Enter your paragraph? \")   ## couldn't figure out how to include \n",
    "word_check(searchString)\n",
    "                                                  ## the suggested word with the output."
   ]
  },
  {
   "cell_type": "code",
   "execution_count": null,
   "metadata": {},
   "outputs": [],
   "source": []
  },
  {
   "cell_type": "code",
   "execution_count": null,
   "metadata": {},
   "outputs": [],
   "source": []
  }
 ],
 "metadata": {
  "kernelspec": {
   "display_name": "Python 3",
   "language": "python",
   "name": "python3"
  },
  "language_info": {
   "codemirror_mode": {
    "name": "ipython",
    "version": 3
   },
   "file_extension": ".py",
   "mimetype": "text/x-python",
   "name": "python",
   "nbconvert_exporter": "python",
   "pygments_lexer": "ipython3",
   "version": "3.7.4"
  }
 },
 "nbformat": 4,
 "nbformat_minor": 1
}
